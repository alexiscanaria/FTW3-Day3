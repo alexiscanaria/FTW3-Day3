{
 "cells": [
  {
   "cell_type": "markdown",
   "metadata": {},
   "source": [
    "## Palindrome Checker"
   ]
  },
  {
   "cell_type": "code",
   "execution_count": 1,
   "metadata": {},
   "outputs": [],
   "source": [
    "def is_palindrome(obj):\n",
    "    if isinstance(obj, int):\n",
    "        obj = str(obj)\n",
    "    return obj == obj[::-1]\n",
    "\n",
    "# print(is_palindrome((1,1,1)))\n",
    "# print(is_palindrome([1,1,11]))\n",
    "# print(is_palindrome(['a',1,'a']))\n",
    "# print(is_palindrome(123))\n",
    "# print(is_palindrome('racecar'))"
   ]
  },
  {
   "cell_type": "markdown",
   "metadata": {},
   "source": [
    "## Prime Checker"
   ]
  },
  {
   "cell_type": "code",
   "execution_count": 2,
   "metadata": {},
   "outputs": [],
   "source": [
    "def is_prime(n):\n",
    "    for i in range(2, n):\n",
    "        if n % i == 0:\n",
    "            return False\n",
    "    return True\n",
    "\n",
    "# is_prime(919)"
   ]
  },
  {
   "cell_type": "markdown",
   "metadata": {},
   "source": [
    "## [Special Pythagorean triplet](https://projecteuler.net/problem=9)"
   ]
  },
  {
   "cell_type": "code",
   "execution_count": 3,
   "metadata": {},
   "outputs": [],
   "source": [
    "import math\n",
    "from functools import reduce\n",
    "\n",
    "def multiply(lis):\n",
    "    return int(reduce(lambda x, y: x * y, lis))\n",
    "\n",
    "def special_pythagorean_triplet():\n",
    "    for a in range(1, 1000):\n",
    "        for b in range(1, 1000):\n",
    "            c = math.sqrt(a**2 + b**2)\n",
    "            if a + b + c == 1000:\n",
    "                return a, b, c\n",
    "\n",
    "# print(multiply(special_pythagorean_triplet()))"
   ]
  },
  {
   "cell_type": "markdown",
   "metadata": {},
   "source": [
    "## [Power digit sum](https://projecteuler.net/problem=16)"
   ]
  },
  {
   "cell_type": "code",
   "execution_count": 4,
   "metadata": {},
   "outputs": [],
   "source": [
    "def power_digit_sum():\n",
    "    return sum(int(i) for i in str(2**1000))\n",
    "\n",
    "# power_digit_sum()"
   ]
  }
 ],
 "metadata": {
  "kernelspec": {
   "display_name": "Python 3",
   "language": "python",
   "name": "python3"
  },
  "language_info": {
   "codemirror_mode": {
    "name": "ipython",
    "version": 3
   },
   "file_extension": ".py",
   "mimetype": "text/x-python",
   "name": "python",
   "nbconvert_exporter": "python",
   "pygments_lexer": "ipython3",
   "version": "3.7.4"
  }
 },
 "nbformat": 4,
 "nbformat_minor": 2
}
